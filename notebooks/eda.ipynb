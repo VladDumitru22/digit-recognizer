{
 "cells": [
  {
   "cell_type": "code",
   "execution_count": 2,
   "id": "42d8a9d5",
   "metadata": {},
   "outputs": [],
   "source": [
    "import pandas as pd\n",
    "import matplotlib.pyplot as plt\n",
    "import numpy as np"
   ]
  },
  {
   "cell_type": "markdown",
   "id": "9a3b8eaa",
   "metadata": {},
   "source": [
    "**Read and inspect data from CSV files**"
   ]
  },
  {
   "cell_type": "code",
   "execution_count": 19,
   "id": "530a1a36",
   "metadata": {},
   "outputs": [
    {
     "name": "stdout",
     "output_type": "stream",
     "text": [
      "train shape:  (60000, 785)\n",
      "test shape:  (10000, 785)\n",
      "Classes distribution:  label\n",
      "1    6742\n",
      "7    6265\n",
      "3    6131\n",
      "2    5958\n",
      "9    5949\n",
      "0    5923\n",
      "6    5918\n",
      "8    5851\n",
      "4    5842\n",
      "5    5421\n",
      "Name: count, dtype: int64\n",
      "NaN values:  0\n",
      "Outside the (0, 255) interval values:  0\n"
     ]
    },
    {
     "data": {
      "image/png": "[encoded data removed]",
      "text/plain": [
       "<Figure size 640x480 with 1 Axes>"
      ]
     },
     "metadata": {},
     "output_type": "display_data"
    }
   ],
   "source": [
    "path_test = r'../data/raw/mnist_test.csv'\n",
    "path_train = r'../data/raw/mnist_train.csv'\n",
    "\n",
    "train_df = pd.read_csv(path_train)\n",
    "test_df = pd.read_csv(path_test)\n",
    "\n",
    "print(\"train shape: \", train_df.shape)\n",
    "print(\"test shape: \", test_df.shape)\n",
    "\n",
    "print(\"Classes distribution: \", train_df[\"label\"].value_counts())\n",
    "\n",
    "print(\"NaN values: \", train_df.isna().sum().sum())\n",
    "pixels_out_of_range = ((train_df.drop(\"label\", axis=1) < 0) | (train_df.drop(\"label\", axis=1) > 255)).sum().sum()\n",
    "print(\"Outside the (0, 255) interval values: \", pixels_out_of_range)\n",
    "\n",
    "row = train_df.iloc[0]\n",
    "label = row[\"label\"]\n",
    "pixels = row.drop(\"label\").values.reshape(28, 28)\n",
    "\n",
    "plt.title(f\"Label: {label}\")\n",
    "plt.imshow(pixels, cmap=\"gray\")\n",
    "plt.axis(\"off\")\n",
    "plt.show()"
   ]
  }
 ],
 "metadata": {
  "kernelspec": {
   "display_name": "digit-recog",
   "language": "python",
   "name": "python3"
  },
  "language_info": {
   "codemirror_mode": {
    "name": "ipython",
    "version": 3
   },
   "file_extension": ".py",
   "mimetype": "text/x-python",
   "name": "python",
   "nbconvert_exporter": "python",
   "pygments_lexer": "ipython3",
   "version": "3.10.18"
  }
 },
 "nbformat": 4,
 "nbformat_minor": 5
}
